{
 "cells": [
  {
   "cell_type": "code",
   "execution_count": 31,
   "id": "be0e0b20-6c4f-4618-be32-93323a4e118e",
   "metadata": {},
   "outputs": [],
   "source": [
    "import json\n",
    "import pandas as pd\n",
    "import random\n",
    "from transformers import AutoTokenizer, AutoModel\n",
    "import torch\n",
    "import numpy as np\n",
    "from sentence_transformers import SentenceTransformer\n",
    "import os\n",
    "import time\n",
    "from pinecone import Pinecone, ServerlessSpec"
   ]
  },
  {
   "cell_type": "code",
   "execution_count": 33,
   "id": "c31bd9f7-1e73-4ce3-9a6c-c95d121bdaa9",
   "metadata": {},
   "outputs": [],
   "source": [
    "json_filename = 'data.json'"
   ]
  },
  {
   "cell_type": "code",
   "execution_count": 35,
   "id": "3a1b9efa-e167-4c99-9a7c-bd5d2073521e",
   "metadata": {},
   "outputs": [],
   "source": [
    "#Load Data\n",
    "data = []\n",
    "\n",
    "with open(json_filename, 'r') as file:\n",
    "    for line in file:\n",
    "        data.append(json.loads(line))"
   ]
  },
  {
   "cell_type": "code",
   "execution_count": 37,
   "id": "c0099466-0b13-4306-b728-801a0a417627",
   "metadata": {},
   "outputs": [],
   "source": [
    "df = pd.DataFrame(data)"
   ]
  },
  {
   "cell_type": "code",
   "execution_count": 39,
   "id": "1a241066-8264-4ba4-8550-9be20421804c",
   "metadata": {},
   "outputs": [
    {
     "name": "stdout",
     "output_type": "stream",
     "text": [
      "                                                link  \\\n",
      "0  https://www.huffpost.com/entry/covid-boosters-...   \n",
      "1  https://www.huffpost.com/entry/american-airlin...   \n",
      "2  https://www.huffpost.com/entry/funniest-tweets...   \n",
      "3  https://www.huffpost.com/entry/funniest-parent...   \n",
      "4  https://www.huffpost.com/entry/amy-cooper-lose...   \n",
      "\n",
      "                                            headline   category  \\\n",
      "0  Over 4 Million Americans Roll Up Sleeves For O...  U.S. NEWS   \n",
      "1  American Airlines Flyer Charged, Banned For Li...  U.S. NEWS   \n",
      "2  23 Of The Funniest Tweets About Cats And Dogs ...     COMEDY   \n",
      "3  The Funniest Tweets From Parents This Week (Se...  PARENTING   \n",
      "4  Woman Who Called Cops On Black Bird-Watcher Lo...  U.S. NEWS   \n",
      "\n",
      "                                   short_description               authors  \\\n",
      "0  Health experts said it is too early to predict...  Carla K. Johnson, AP   \n",
      "1  He was subdued by passengers and crew when he ...        Mary Papenfuss   \n",
      "2  \"Until you have a dog you don't understand wha...         Elyse Wanshel   \n",
      "3  \"Accidentally put grown-up toothpaste on my to...      Caroline Bologna   \n",
      "4  Amy Cooper accused investment firm Franklin Te...        Nina Golgowski   \n",
      "\n",
      "         date  \n",
      "0  2022-09-23  \n",
      "1  2022-09-23  \n",
      "2  2022-09-23  \n",
      "3  2022-09-23  \n",
      "4  2022-09-22  \n"
     ]
    }
   ],
   "source": [
    "print(df.head())"
   ]
  },
  {
   "cell_type": "code",
   "execution_count": 41,
   "id": "f97501bf-38c3-4234-a7ba-edebe30dba8e",
   "metadata": {},
   "outputs": [
    {
     "name": "stdout",
     "output_type": "stream",
     "text": [
      "                                                link  \\\n",
      "0  https://www.huffpost.com/entry/covid-boosters-...   \n",
      "1  https://www.huffpost.com/entry/american-airlin...   \n",
      "2  https://www.huffpost.com/entry/funniest-tweets...   \n",
      "3  https://www.huffpost.com/entry/funniest-parent...   \n",
      "4  https://www.huffpost.com/entry/amy-cooper-lose...   \n",
      "\n",
      "                                            headline   category  \\\n",
      "0  Over 4 Million Americans Roll Up Sleeves For O...  U.S. NEWS   \n",
      "1  American Airlines Flyer Charged, Banned For Li...  U.S. NEWS   \n",
      "2  23 Of The Funniest Tweets About Cats And Dogs ...     COMEDY   \n",
      "3  The Funniest Tweets From Parents This Week (Se...  PARENTING   \n",
      "4  Woman Who Called Cops On Black Bird-Watcher Lo...  U.S. NEWS   \n",
      "\n",
      "                                   short_description               authors  \\\n",
      "0  Health experts said it is too early to predict...  Carla K. Johnson, AP   \n",
      "1  He was subdued by passengers and crew when he ...        Mary Papenfuss   \n",
      "2  \"Until you have a dog you don't understand wha...         Elyse Wanshel   \n",
      "3  \"Accidentally put grown-up toothpaste on my to...      Caroline Bologna   \n",
      "4  Amy Cooper accused investment firm Franklin Te...        Nina Golgowski   \n",
      "\n",
      "        date  \n",
      "0 2022-09-23  \n",
      "1 2022-09-23  \n",
      "2 2022-09-23  \n",
      "3 2022-09-23  \n",
      "4 2022-09-22  \n"
     ]
    }
   ],
   "source": [
    "df['date'] = pd.to_datetime(df['date'], format='%Y-%m-%d')\n",
    "\n",
    "# Filter the DataFrame to get only dates after 10/1/2021 \n",
    "threshold_date = pd.to_datetime('2021-10-01')\n",
    "filtered_df = df[df['date'] > threshold_date]\n",
    "\n",
    "print(filtered_df.head())"
   ]
  },
  {
   "cell_type": "code",
   "execution_count": 43,
   "id": "c6eacb4d-ab1e-4fc0-86ac-5e0d86a57ac7",
   "metadata": {},
   "outputs": [],
   "source": [
    "filtered_df = filtered_df.astype(str)"
   ]
  },
  {
   "cell_type": "code",
   "execution_count": 45,
   "id": "53ebc0d5-2d59-4244-9591-78895ce4df57",
   "metadata": {},
   "outputs": [
    {
     "name": "stdout",
     "output_type": "stream",
     "text": [
      "                                                   link  \\\n",
      "0     https://www.huffpost.com/entry/covid-boosters-...   \n",
      "1     https://www.huffpost.com/entry/american-airlin...   \n",
      "2     https://www.huffpost.com/entry/funniest-tweets...   \n",
      "3     https://www.huffpost.com/entry/funniest-parent...   \n",
      "4     https://www.huffpost.com/entry/amy-cooper-lose...   \n",
      "...                                                 ...   \n",
      "1901  https://www.huffpost.com/entry/womens-march-ab...   \n",
      "1902  https://www.huffpost.com/entry/biden-says-ever...   \n",
      "1903  https://www.huffpost.com/entry/cyber-ninjas-ar...   \n",
      "1904  https://www.huffpost.com/entry/jennifer-garner...   \n",
      "1905  https://www.huffpost.com/entry/joro-spiders-in...   \n",
      "\n",
      "                                               headline       category  \\\n",
      "0     Over 4 Million Americans Roll Up Sleeves For O...      U.S. NEWS   \n",
      "1     American Airlines Flyer Charged, Banned For Li...      U.S. NEWS   \n",
      "2     23 Of The Funniest Tweets About Cats And Dogs ...         COMEDY   \n",
      "3     The Funniest Tweets From Parents This Week (Se...      PARENTING   \n",
      "4     Woman Who Called Cops On Black Bird-Watcher Lo...      U.S. NEWS   \n",
      "...                                                 ...            ...   \n",
      "1901  Women's March Targets Abortion Access On Steps...       POLITICS   \n",
      "1902  Biden Says 'Everybody Is Frustrated' As His Ag...       POLITICS   \n",
      "1903  'Laughable' Cyber Ninjas' Arizona Recount Miss...       POLITICS   \n",
      "1904  Jennifer Garner Sends Selfie To Random Strange...  ENTERTAINMENT   \n",
      "1905  'Extreme Numbers' Of Large Invasive Spiders In...    ENVIRONMENT   \n",
      "\n",
      "                                      short_description  \\\n",
      "0     Health experts said it is too early to predict...   \n",
      "1     He was subdued by passengers and crew when he ...   \n",
      "2     \"Until you have a dog you don't understand wha...   \n",
      "3     \"Accidentally put grown-up toothpaste on my to...   \n",
      "4     Amy Cooper accused investment firm Franklin Te...   \n",
      "...                                                 ...   \n",
      "1901  At an unrelated event, GOP Sen. Susan Collins ...   \n",
      "1902  “I’m going to try to sell what I think the Ame...   \n",
      "1903  The election auditors missed 16,000 votes in a...   \n",
      "1904  She was trying to reconnect with former \"Alias...   \n",
      "1905  The palm-sized Joro spiders may look freaky, b...   \n",
      "\n",
      "                               authors        date  \\\n",
      "0                 Carla K. Johnson, AP  2022-09-23   \n",
      "1                       Mary Papenfuss  2022-09-23   \n",
      "2                        Elyse Wanshel  2022-09-23   \n",
      "3                     Caroline Bologna  2022-09-23   \n",
      "4                       Nina Golgowski  2022-09-22   \n",
      "...                                ...         ...   \n",
      "1901              Ellen Knickmeyer, AP  2021-10-02   \n",
      "1902  Lisa Mascaro and Zeke Miller, AP  2021-10-02   \n",
      "1903                    Mary Papenfuss  2021-10-02   \n",
      "1904                     Hilary Hanson  2021-10-02   \n",
      "1905                     Hilary Hanson  2021-10-02   \n",
      "\n",
      "                                           concatenated  \n",
      "0     https://www.huffpost.com/entry/covid-boosters-...  \n",
      "1     https://www.huffpost.com/entry/american-airlin...  \n",
      "2     https://www.huffpost.com/entry/funniest-tweets...  \n",
      "3     https://www.huffpost.com/entry/funniest-parent...  \n",
      "4     https://www.huffpost.com/entry/amy-cooper-lose...  \n",
      "...                                                 ...  \n",
      "1901  https://www.huffpost.com/entry/womens-march-ab...  \n",
      "1902  https://www.huffpost.com/entry/biden-says-ever...  \n",
      "1903  https://www.huffpost.com/entry/cyber-ninjas-ar...  \n",
      "1904  https://www.huffpost.com/entry/jennifer-garner...  \n",
      "1905  https://www.huffpost.com/entry/joro-spiders-in...  \n",
      "\n",
      "[1906 rows x 7 columns]\n"
     ]
    }
   ],
   "source": [
    "# Concatenate all the columns into one column (as a string) for embedding\n",
    "filtered_df['concatenated'] = filtered_df.apply(lambda row: ' '.join(row), axis=1)\n",
    "\n",
    "print(filtered_df)"
   ]
  },
  {
   "cell_type": "code",
   "execution_count": 47,
   "id": "ed6ffd65-5b28-4330-af89-0b3bb9491fd2",
   "metadata": {},
   "outputs": [
    {
     "data": {
      "application/vnd.jupyter.widget-view+json": {
       "model_id": "63703b0c578a467a97db9d136354adb4",
       "version_major": 2,
       "version_minor": 0
      },
      "text/plain": [
       "Batches:   0%|          | 0/60 [00:00<?, ?it/s]"
      ]
     },
     "metadata": {},
     "output_type": "display_data"
    }
   ],
   "source": [
    "# Load the SentenceTransformer model\n",
    "model_name = \"sentence-transformers/paraphrase-multilingual-mpnet-base-v2\"\n",
    "model = SentenceTransformer(model_name)\n",
    "\n",
    "# Concatenate all text columns into a list for embedding\n",
    "texts_to_embed = filtered_df['concatenated'].tolist()\n",
    "\n",
    "# Get embeddings\n",
    "embeddings = model.encode(texts_to_embed, show_progress_bar=True, batch_size=32)"
   ]
  },
  {
   "cell_type": "code",
   "execution_count": 49,
   "id": "765265da-6bd3-4931-b76e-d1c4609dd3b5",
   "metadata": {},
   "outputs": [],
   "source": [
    "pc = Pinecone(api_key='')"
   ]
  },
  {
   "cell_type": "code",
   "execution_count": 51,
   "id": "fec20c69-d325-4769-aa0d-c348c8575ea0",
   "metadata": {},
   "outputs": [],
   "source": [
    "index_name = 'news-embedding-stitching'\n",
    "\n",
    "cloud = os.environ.get('PINECONE_CLOUD') or 'aws'\n",
    "region = os.environ.get('PINECONE_REGION') or 'us-east-1'\n",
    "\n",
    "spec = ServerlessSpec(cloud=cloud, region=region)\n",
    "\n",
    "embed_dim = 768"
   ]
  },
  {
   "cell_type": "code",
   "execution_count": 53,
   "id": "6b5b5d6c-4aaf-4438-bf59-d223eae9214b",
   "metadata": {},
   "outputs": [],
   "source": [
    "pc.create_index(\n",
    "        index_name,\n",
    "        dimension=embed_dim,  \n",
    "        metric='euclidean',\n",
    "        spec=spec\n",
    "    )"
   ]
  },
  {
   "cell_type": "code",
   "execution_count": 55,
   "id": "d28344cc-eadb-49f9-872c-a87d7769b278",
   "metadata": {},
   "outputs": [],
   "source": [
    "index = pc.Index(index_name)"
   ]
  },
  {
   "cell_type": "code",
   "execution_count": 57,
   "id": "3bd2b031-b8ee-4258-9165-9e32be180dd3",
   "metadata": {},
   "outputs": [
    {
     "name": "stdout",
     "output_type": "stream",
     "text": [
      "Upserted batch 1 of 19\n",
      "Upserted batch 2 of 19\n",
      "Upserted batch 3 of 19\n",
      "Upserted batch 4 of 19\n",
      "Upserted batch 5 of 19\n",
      "Upserted batch 6 of 19\n",
      "Upserted batch 7 of 19\n",
      "Upserted batch 8 of 19\n",
      "Upserted batch 9 of 19\n",
      "Upserted batch 10 of 19\n",
      "Upserted batch 11 of 19\n",
      "Upserted batch 12 of 19\n",
      "Upserted batch 13 of 19\n",
      "Upserted batch 14 of 19\n",
      "Upserted batch 15 of 19\n",
      "Upserted batch 16 of 19\n",
      "Upserted batch 17 of 19\n",
      "Upserted batch 18 of 19\n",
      "Upserted batch 19 of 19\n",
      "Upsert complete!\n"
     ]
    }
   ],
   "source": [
    "# Set a fixed random seed\n",
    "random.seed(9)\n",
    "\n",
    "# Ensure embeddings are in the correct format\n",
    "embeddings_list = embeddings.tolist() \n",
    "\n",
    "# Prepare metadata with raw_text_index and original text\n",
    "metadata = [{\"raw_text_index\": str(i), \"text\": texts_to_embed[i]} for i in range(len(texts_to_embed))]\n",
    "\n",
    "# Reserve 10 random embeddings for querying using the fixed seed\n",
    "reserved_indices = random.sample(range(len(embeddings_list)), 10)\n",
    "\n",
    "query_embeddings = [embeddings_list[i] for i in reserved_indices]\n",
    "query_metadata = [metadata[i] for i in reserved_indices]\n",
    "\n",
    "# Prepare the remaining embeddings for upsert \n",
    "remaining_embeddings = [embeddings_list[i] for i in range(len(embeddings_list)) if i not in reserved_indices]\n",
    "remaining_metadata = [metadata[i] for i in range(len(metadata)) if i not in reserved_indices]\n",
    "\n",
    "# Prepare data for upsert\n",
    "upsert_data = {\n",
    "    'id': [str(i) for i in range(len(remaining_embeddings))],  \n",
    "    'values': remaining_embeddings,  \n",
    "    'metadata': remaining_metadata  \n",
    "}\n",
    "\n",
    "vectors_to_upsert = [(upsert_data['id'][i], upsert_data['values'][i], upsert_data['metadata'][i]) \n",
    "                     for i in range(len(upsert_data['id']))]\n",
    "\n",
    "# Upsert in batches \n",
    "batch_size = 100\n",
    "sleep_time = 2\n",
    "for i in range(0, len(vectors_to_upsert), batch_size):\n",
    "    batch = vectors_to_upsert[i:i+batch_size]\n",
    "    index.upsert(vectors=batch)\n",
    "    print(f\"Upserted batch {i // batch_size + 1} of {len(vectors_to_upsert) // batch_size + 1}\")\n",
    "    time.sleep(sleep_time)\n",
    "\n",
    "print(\"Upsert complete!\")"
   ]
  },
  {
   "cell_type": "code",
   "execution_count": null,
   "id": "66293293-6687-48e2-a3e5-72cd28e28b63",
   "metadata": {},
   "outputs": [],
   "source": []
  }
 ],
 "metadata": {
  "kernelspec": {
   "display_name": "Python 3 (ipykernel)",
   "language": "python",
   "name": "python3"
  },
  "language_info": {
   "codemirror_mode": {
    "name": "ipython",
    "version": 3
   },
   "file_extension": ".py",
   "mimetype": "text/x-python",
   "name": "python",
   "nbconvert_exporter": "python",
   "pygments_lexer": "ipython3",
   "version": "3.12.7"
  }
 },
 "nbformat": 4,
 "nbformat_minor": 5
}
